{
 "cells": [
  {
   "cell_type": "code",
   "execution_count": 1,
   "id": "2eb9d959",
   "metadata": {},
   "outputs": [],
   "source": [
    "import numpy as np\n",
    "import pandas as pd\n",
    "import matplotlib.pyplot as plt\n",
    "import seaborn as sns\n",
    "import nltk \n",
    "from nltk.corpus import stopwords\n",
    "import string"
   ]
  },
  {
   "cell_type": "code",
   "execution_count": 2,
   "id": "8fb0b7a9",
   "metadata": {},
   "outputs": [],
   "source": [
    "email_df = pd.read_csv('data/emailSpam.csv')"
   ]
  },
  {
   "cell_type": "code",
   "execution_count": 3,
   "id": "9f89a83e",
   "metadata": {},
   "outputs": [
    {
     "data": {
      "text/html": [
       "<div>\n",
       "<style scoped>\n",
       "    .dataframe tbody tr th:only-of-type {\n",
       "        vertical-align: middle;\n",
       "    }\n",
       "\n",
       "    .dataframe tbody tr th {\n",
       "        vertical-align: top;\n",
       "    }\n",
       "\n",
       "    .dataframe thead th {\n",
       "        text-align: right;\n",
       "    }\n",
       "</style>\n",
       "<table border=\"1\" class=\"dataframe\">\n",
       "  <thead>\n",
       "    <tr style=\"text-align: right;\">\n",
       "      <th></th>\n",
       "      <th>Category</th>\n",
       "      <th>Message</th>\n",
       "    </tr>\n",
       "  </thead>\n",
       "  <tbody>\n",
       "    <tr>\n",
       "      <th>0</th>\n",
       "      <td>0</td>\n",
       "      <td>Go until jurong point, crazy.. Available only ...</td>\n",
       "    </tr>\n",
       "    <tr>\n",
       "      <th>1</th>\n",
       "      <td>0</td>\n",
       "      <td>Ok lar... Joking wif u oni...</td>\n",
       "    </tr>\n",
       "    <tr>\n",
       "      <th>2</th>\n",
       "      <td>1</td>\n",
       "      <td>Free entry in 2 a wkly comp to win FA Cup fina...</td>\n",
       "    </tr>\n",
       "    <tr>\n",
       "      <th>3</th>\n",
       "      <td>0</td>\n",
       "      <td>U dun say so early hor... U c already then say...</td>\n",
       "    </tr>\n",
       "    <tr>\n",
       "      <th>4</th>\n",
       "      <td>0</td>\n",
       "      <td>Nah I don't think he goes to usf, he lives aro...</td>\n",
       "    </tr>\n",
       "  </tbody>\n",
       "</table>\n",
       "</div>"
      ],
      "text/plain": [
       "   Category                                            Message\n",
       "0         0  Go until jurong point, crazy.. Available only ...\n",
       "1         0                      Ok lar... Joking wif u oni...\n",
       "2         1  Free entry in 2 a wkly comp to win FA Cup fina...\n",
       "3         0  U dun say so early hor... U c already then say...\n",
       "4         0  Nah I don't think he goes to usf, he lives aro..."
      ]
     },
     "execution_count": 3,
     "metadata": {},
     "output_type": "execute_result"
    }
   ],
   "source": [
    "email_df.head()"
   ]
  },
  {
   "cell_type": "code",
   "execution_count": 4,
   "id": "cd5a413b",
   "metadata": {},
   "outputs": [
    {
     "data": {
      "text/plain": [
       "(5572, 2)"
      ]
     },
     "execution_count": 4,
     "metadata": {},
     "output_type": "execute_result"
    }
   ],
   "source": [
    "email_df.shape"
   ]
  },
  {
   "cell_type": "code",
   "execution_count": 5,
   "id": "2e2561df",
   "metadata": {},
   "outputs": [],
   "source": [
    "email_df.drop_duplicates(inplace=True)"
   ]
  },
  {
   "cell_type": "code",
   "execution_count": 6,
   "id": "a71aa4c3",
   "metadata": {},
   "outputs": [
    {
     "data": {
      "text/plain": [
       "(5157, 2)"
      ]
     },
     "execution_count": 6,
     "metadata": {},
     "output_type": "execute_result"
    }
   ],
   "source": [
    "email_df.shape"
   ]
  },
  {
   "cell_type": "code",
   "execution_count": 7,
   "id": "733cf7d0",
   "metadata": {},
   "outputs": [
    {
     "data": {
      "text/plain": [
       "Category    0\n",
       "Message     0\n",
       "dtype: int64"
      ]
     },
     "execution_count": 7,
     "metadata": {},
     "output_type": "execute_result"
    }
   ],
   "source": [
    "email_df.isnull().sum()"
   ]
  },
  {
   "cell_type": "code",
   "execution_count": 8,
   "id": "0aa36cad",
   "metadata": {},
   "outputs": [
    {
     "name": "stderr",
     "output_type": "stream",
     "text": [
      "[nltk_data] Downloading package stopwords to\n",
      "[nltk_data]     C:\\Users\\NEPTUNE\\AppData\\Roaming\\nltk_data...\n",
      "[nltk_data]   Package stopwords is already up-to-date!\n"
     ]
    },
    {
     "data": {
      "text/plain": [
       "True"
      ]
     },
     "execution_count": 8,
     "metadata": {},
     "output_type": "execute_result"
    }
   ],
   "source": [
    "nltk.download('stopwords')"
   ]
  },
  {
   "cell_type": "code",
   "execution_count": 9,
   "id": "8cc839e5",
   "metadata": {},
   "outputs": [],
   "source": [
    "def procrss_text(text):\n",
    "    # 1 remove punctuation \n",
    "    nopunc = [char for char in text if char not in string.punctuation]\n",
    "    nopunc = ''.join(nopunc)\n",
    "    \n",
    "    # 2 remove stopwords\n",
    "    clean_word = [word for word in nopunc.split() if word.lower() not in stopwords.words('english')]\n",
    "    \n",
    "    return clean_word"
   ]
  },
  {
   "cell_type": "code",
   "execution_count": 10,
   "id": "88db12f4",
   "metadata": {},
   "outputs": [
    {
     "data": {
      "text/plain": [
       "0    [Go, jurong, point, crazy, Available, bugis, n...\n",
       "1                       [Ok, lar, Joking, wif, u, oni]\n",
       "2    [Free, entry, 2, wkly, comp, win, FA, Cup, fin...\n",
       "3        [U, dun, say, early, hor, U, c, already, say]\n",
       "4    [Nah, dont, think, goes, usf, lives, around, t...\n",
       "Name: Message, dtype: object"
      ]
     },
     "execution_count": 10,
     "metadata": {},
     "output_type": "execute_result"
    }
   ],
   "source": [
    "email_df['Message'].head().apply(procrss_text)"
   ]
  },
  {
   "cell_type": "code",
   "execution_count": 11,
   "id": "091ca2d1",
   "metadata": {},
   "outputs": [
    {
     "name": "stdout",
     "output_type": "stream",
     "text": [
      "  (0, 1)\t3\n",
      "  (0, 4)\t2\n",
      "  (0, 2)\t1\n",
      "  (1, 1)\t1\n",
      "  (1, 0)\t3\n",
      "  (1, 3)\t2\n"
     ]
    }
   ],
   "source": [
    "# Example \n",
    "msg1 = 'hello world hello hello world play'\n",
    "msg2 = 'fork fork fork test hello test'\n",
    "\n",
    "# convert the text to a matrix of token counts\n",
    "from sklearn.feature_extraction.text import CountVectorizer\n",
    "ans = CountVectorizer(analyzer=procrss_text).fit_transform([[msg1],[msg2]])\n",
    "print(ans)\n"
   ]
  },
  {
   "cell_type": "code",
   "execution_count": 12,
   "id": "b07cb8d1",
   "metadata": {},
   "outputs": [],
   "source": [
    "# convert a collection of text to a matrix of token counts\n",
    "from sklearn.feature_extraction.text import CountVectorizer\n",
    "messages_bow = CountVectorizer(analyzer=procrss_text).fit_transform(email_df['Message'])"
   ]
  },
  {
   "cell_type": "code",
   "execution_count": 13,
   "id": "0a2ab638",
   "metadata": {},
   "outputs": [],
   "source": [
    "# split data to 80% training and 20% testing\n",
    "from sklearn.model_selection import train_test_split\n",
    "x_train,x_test,y_train,y_test = train_test_split(messages_bow,email_df['Category'],test_size=0.20,random_state=0)"
   ]
  },
  {
   "cell_type": "code",
   "execution_count": 14,
   "id": "b5685f50",
   "metadata": {},
   "outputs": [
    {
     "data": {
      "text/plain": [
       "(5157, 11422)"
      ]
     },
     "execution_count": 14,
     "metadata": {},
     "output_type": "execute_result"
    }
   ],
   "source": [
    "messages_bow.shape"
   ]
  },
  {
   "cell_type": "code",
   "execution_count": 15,
   "id": "d6689a46",
   "metadata": {},
   "outputs": [],
   "source": [
    "# creat and trean the Naive Bayes Classifier\n",
    "\n",
    "# Each algorithm of NB expects different types of data.\n",
    "    # GaussianNB → When you have continuous features.\n",
    "    # CategoricalNB → When you have categorical data.\n",
    "    # MultinomialNB → Applied to text data.\n",
    "    \n",
    "from sklearn.naive_bayes import MultinomialNB\n",
    "classifier = MultinomialNB().fit(x_train,y_train)"
   ]
  },
  {
   "cell_type": "code",
   "execution_count": 16,
   "id": "45190d9a",
   "metadata": {},
   "outputs": [
    {
     "name": "stdout",
     "output_type": "stream",
     "text": [
      "              precision    recall  f1-score   support\n",
      "\n",
      "           0       1.00      1.00      1.00      3619\n",
      "           1       0.98      0.97      0.98       506\n",
      "\n",
      "    accuracy                           0.99      4125\n",
      "   macro avg       0.99      0.99      0.99      4125\n",
      "weighted avg       0.99      0.99      0.99      4125\n",
      "\n",
      "\n",
      "[[3611    8]\n",
      " [  13  493]]\n",
      "\n",
      "0.9949090909090909\n"
     ]
    }
   ],
   "source": [
    "from sklearn.metrics import classification_report , confusion_matrix , accuracy_score\n",
    "pred = classifier.predict(x_train)\n",
    "print(classification_report(y_train,pred))\n",
    "print()\n",
    "print(confusion_matrix(y_train,pred))\n",
    "print()\n",
    "print(accuracy_score(y_train,pred))"
   ]
  },
  {
   "cell_type": "code",
   "execution_count": 17,
   "id": "d555c84b",
   "metadata": {},
   "outputs": [
    {
     "name": "stdout",
     "output_type": "stream",
     "text": [
      "              precision    recall  f1-score   support\n",
      "\n",
      "           0       0.99      0.97      0.98       897\n",
      "           1       0.81      0.93      0.86       135\n",
      "\n",
      "    accuracy                           0.96      1032\n",
      "   macro avg       0.90      0.95      0.92      1032\n",
      "weighted avg       0.96      0.96      0.96      1032\n",
      "\n",
      "\n",
      "[[867  30]\n",
      " [ 10 125]]\n",
      "\n",
      "0.9612403100775194\n"
     ]
    }
   ],
   "source": [
    "from sklearn.metrics import classification_report , confusion_matrix , accuracy_score\n",
    "pred = classifier.predict(x_test)\n",
    "print(classification_report(y_test,pred))\n",
    "print()\n",
    "print(confusion_matrix(y_test,pred))\n",
    "print()\n",
    "print(accuracy_score(y_test,pred))"
   ]
  },
  {
   "cell_type": "code",
   "execution_count": 18,
   "id": "bea2eb2f",
   "metadata": {},
   "outputs": [
    {
     "data": {
      "image/png": "[encoded data removed]",
      "text/plain": [
       "<Figure size 500x500 with 1 Axes>"
      ]
     },
     "metadata": {},
     "output_type": "display_data"
    }
   ],
   "source": [
    "conf_mat = confusion_matrix(y_test, pred)\n",
    "fig, ax = plt.subplots(figsize=(5,5))\n",
    "sns.heatmap(conf_mat, annot=True, fmt='d', cmap=plt.cm.Blues, cbar=False)\n",
    "plt.xlabel('Predicted Label')\n",
    "plt.ylabel('True Label')\n",
    "plt.show()"
   ]
  },
  {
   "cell_type": "code",
   "execution_count": 20,
   "id": "347b78f5",
   "metadata": {},
   "outputs": [
    {
     "name": "stdout",
     "output_type": "stream",
     "text": [
      "[0 0 0 ... 0 0 0]\n",
      "1512    0\n",
      "4824    0\n",
      "2983    0\n",
      "2133    1\n",
      "1903    0\n",
      "       ..\n",
      "1948    0\n",
      "5275    0\n",
      "2404    0\n",
      "3853    0\n",
      "3369    0\n",
      "Name: Category, Length: 1032, dtype: int64\n",
      "  (0, 6120)\t1\n",
      "  (0, 8564)\t1\n",
      "  (0, 3083)\t1\n",
      "  (0, 10543)\t1\n",
      "  (0, 7001)\t1\n",
      "  (0, 9938)\t1\n",
      "  (0, 5441)\t1\n",
      "  (0, 4349)\t1\n",
      "  (0, 8161)\t1\n",
      "  (0, 8843)\t1\n",
      "  (0, 10062)\t1\n",
      "  (0, 6263)\t1\n",
      "  (2, 2344)\t1\n",
      "  (2, 4414)\t1\n",
      "  (2, 4019)\t1\n",
      "  (3, 5272)\t1\n",
      "  (3, 5771)\t1\n",
      "  (3, 9346)\t1\n",
      "  (3, 10103)\t1\n",
      "  (3, 1551)\t1\n",
      "  (3, 5333)\t1\n",
      "  (3, 6063)\t1\n",
      "  (3, 8614)\t1\n",
      "  (3, 10899)\t1\n",
      "  (3, 8594)\t1\n",
      "  :\t:\n",
      "  (1027, 1766)\t1\n",
      "  (1028, 3057)\t1\n",
      "  (1028, 11286)\t1\n",
      "  (1028, 6496)\t1\n",
      "  (1028, 5535)\t1\n",
      "  (1029, 2350)\t1\n",
      "  (1029, 10654)\t1\n",
      "  (1029, 6847)\t1\n",
      "  (1029, 4687)\t1\n",
      "  (1029, 8828)\t1\n",
      "  (1029, 6743)\t1\n",
      "  (1029, 6179)\t1\n",
      "  (1029, 5051)\t1\n",
      "  (1029, 2440)\t1\n",
      "  (1029, 5505)\t1\n",
      "  (1030, 10695)\t1\n",
      "  (1030, 7936)\t1\n",
      "  (1030, 6053)\t1\n",
      "  (1030, 7644)\t1\n",
      "  (1030, 10646)\t1\n",
      "  (1031, 2220)\t1\n",
      "  (1031, 10090)\t1\n",
      "  (1031, 8091)\t1\n",
      "  (1031, 10527)\t1\n",
      "  (1031, 6271)\t1\n"
     ]
    }
   ],
   "source": [
    "print(pred)\n",
    "print(y_test)\n",
    "print(x_test)"
   ]
  },
  {
   "cell_type": "code",
   "execution_count": null,
   "id": "b3510082",
   "metadata": {},
   "outputs": [],
   "source": []
  }
 ],
 "metadata": {
  "kernelspec": {
   "display_name": "Python 3 (ipykernel)",
   "language": "python",
   "name": "python3"
  },
  "language_info": {
   "codemirror_mode": {
    "name": "ipython",
    "version": 3
   },
   "file_extension": ".py",
   "mimetype": "text/x-python",
   "name": "python",
   "nbconvert_exporter": "python",
   "pygments_lexer": "ipython3",
   "version": "3.9.5"
  },
  "varInspector": {
   "cols": {
    "lenName": 16,
    "lenType": 16,
    "lenVar": 40
   },
   "kernels_config": {
    "python": {
     "delete_cmd_postfix": "",
     "delete_cmd_prefix": "del ",
     "library": "var_list.py",
     "varRefreshCmd": "print(var_dic_list())"
    },
    "r": {
     "delete_cmd_postfix": ") ",
     "delete_cmd_prefix": "rm(",
     "library": "var_list.r",
     "varRefreshCmd": "cat(var_dic_list()) "
    }
   },
   "types_to_exclude": [
    "module",
    "function",
    "builtin_function_or_method",
    "instance",
    "_Feature"
   ],
   "window_display": false
  }
 },
 "nbformat": 4,
 "nbformat_minor": 5
}
